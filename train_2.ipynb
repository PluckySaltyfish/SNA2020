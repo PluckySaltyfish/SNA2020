{
 "cells": [
  {
   "cell_type": "code",
   "execution_count": 289,
   "metadata": {},
   "outputs": [],
   "source": [
    "import numpy as np\n",
    "import pandas as pd\n",
    "from datetime import datetime\n",
    "from sklearn.preprocessing import MinMaxScaler\n",
    "from sklearn.preprocessing import LabelEncoder\n",
    "from sklearn.metrics import mean_squared_error\n",
    "import math"
   ]
  },
  {
   "cell_type": "code",
   "execution_count": 290,
   "metadata": {},
   "outputs": [],
   "source": [
    "def parse(x):\n",
    "    x = x[:4] + ' '+ x[4:6] + ' '+x[6:]\n",
    "    return datetime.strptime(x, '%Y %m %d')\n",
    "def read_data(file):\n",
    "    return pd.read_csv(file,parse_dates = ['date'], date_parser=parse)"
   ]
  },
  {
   "cell_type": "code",
   "execution_count": 291,
   "metadata": {},
   "outputs": [],
   "source": [
    "A = read_data(\"data1/A.csv\")\n",
    "B = read_data(\"data1/B.csv\")\n",
    "C = read_data(\"data1/C.csv\")\n",
    "D = read_data(\"data1/D.csv\")\n",
    "E = read_data(\"data1/E.csv\")\n",
    "n_features = A.shape[1] - 3"
   ]
  },
  {
   "cell_type": "code",
   "execution_count": 292,
   "metadata": {},
   "outputs": [],
   "source": [
    "scaler = MinMaxScaler(feature_range=(0, 1))\n",
    "n_step = 3\n",
    "n_ob = n_step * n_features"
   ]
  },
  {
   "cell_type": "code",
   "execution_count": 293,
   "metadata": {},
   "outputs": [],
   "source": [
    "def series_to_supervised(data, n_in=1, n_out=1, dropnan=True):\n",
    "    n_vars = 1 if type(data) is list else data.shape[1]\n",
    "    df = pd.DataFrame(data)\n",
    "    cols, names = list(), list()\n",
    "    # input sequence (t-n, ... t-1)\n",
    "    for i in range(n_in, 0, -1):\n",
    "        cols.append(df.shift(i))\n",
    "        names += [('var%d(t-%d)' % (j+1, i)) for j in range(n_vars)]\n",
    "    # forecast sequence (t, t+1, ... t+n)\n",
    "    for i in range(0, n_out):\n",
    "        cols.append(df.shift(-i))\n",
    "        if i == 0:\n",
    "            names += [('var%d(t)' % (j+1)) for j in range(n_vars)]\n",
    "        else:\n",
    "            names += [('var%d(t+%d)' % (j+1, i)) for j in range(n_vars)]\n",
    "    # put it all together\n",
    "    agg = pd.concat(cols, axis=1)\n",
    "    agg.columns = names\n",
    "    # drop rows with NaN values\n",
    "    if dropnan:\n",
    "        agg.dropna(inplace=True)\n",
    "    return agg\n",
    "\n",
    "def process(cdf):\n",
    "    v = []\n",
    "    for i in range(cdf.region.max()+1):\n",
    "        df = cdf[cdf.region==i].copy()\n",
    "        df = df.set_index(\"date\")\n",
    "        df.drop([\"city\",\"region\"],axis = 1,inplace = True)\n",
    "        values = df.values\n",
    "        values = values.astype('float32')\n",
    "        scaled = scaler.fit_transform(values)\n",
    "        reframed = series_to_supervised(scaled, n_step, 30)\n",
    "#         print(reframed.head())\n",
    "#         reframed.drop(reframed.columns[range(52,102)], axis=1, inplace=True)\n",
    "        v.append(reframed.values)\n",
    "        a = v[0]\n",
    "        for i in range(1,len(v)):\n",
    "            a = np.concatenate((a,v[i]),axis=0)\n",
    "    return a"
   ]
  },
  {
   "cell_type": "code",
   "execution_count": 294,
   "metadata": {},
   "outputs": [],
   "source": [
    "a = process(A)\n",
    "b = process(B)\n",
    "c = process(C)\n",
    "d = process(D)\n",
    "e = process(E)\n",
    "data = np.concatenate((a,b,c,d,e),axis=0)"
   ]
  },
  {
   "cell_type": "code",
   "execution_count": 295,
   "metadata": {},
   "outputs": [],
   "source": [
    "from sklearn.model_selection import train_test_split\n",
    "x_train, x_test, y_train, y_test = train_test_split(data[:,:n_ob],data[:,-n_features],test_size=0.2,random_state=2)"
   ]
  },
  {
   "cell_type": "code",
   "execution_count": 296,
   "metadata": {},
   "outputs": [],
   "source": [
    "x_train = x_train.reshape((x_train.shape[0], n_step, n_features))\n",
    "x_test = x_test.reshape((x_test.shape[0], n_step, n_features))"
   ]
  },
  {
   "cell_type": "code",
   "execution_count": 297,
   "metadata": {
    "tags": []
   },
   "outputs": [
    {
     "name": "stdout",
     "output_type": "stream",
     "text": [
      "(4076, 3, 4) (4076,) (1020, 3, 4) (1020,)\n"
     ]
    }
   ],
   "source": [
    "print(x_train.shape, y_train.shape, x_test.shape, y_test.shape)"
   ]
  },
  {
   "cell_type": "code",
   "execution_count": 298,
   "metadata": {},
   "outputs": [],
   "source": [
    "from keras.models import Sequential\n",
    "from keras.layers import Dense\n",
    "from keras.layers import LSTM"
   ]
  },
  {
   "cell_type": "code",
   "execution_count": 299,
   "metadata": {},
   "outputs": [
    {
     "name": "stdout",
     "output_type": "stream",
     "text": [
      "Train on 4076 samples, validate on 1020 samples\n",
      "Epoch 1/50\n",
      " - 4s - loss: 0.1007 - val_loss: 0.0836\n",
      "Epoch 2/50\n",
      " - 2s - loss: 0.0846 - val_loss: 0.0808\n",
      "Epoch 3/50\n",
      " - 2s - loss: 0.0833 - val_loss: 0.0797\n",
      "Epoch 4/50\n",
      " - 2s - loss: 0.0823 - val_loss: 0.0787\n",
      "Epoch 5/50\n",
      " - 2s - loss: 0.0813 - val_loss: 0.0775\n",
      "Epoch 6/50\n",
      " - 2s - loss: 0.0802 - val_loss: 0.0764\n",
      "Epoch 7/50\n",
      " - 2s - loss: 0.0792 - val_loss: 0.0752\n",
      "Epoch 8/50\n",
      " - 2s - loss: 0.0782 - val_loss: 0.0742\n",
      "Epoch 9/50\n",
      " - 2s - loss: 0.0773 - val_loss: 0.0731\n",
      "Epoch 10/50\n",
      " - 2s - loss: 0.0764 - val_loss: 0.0720\n",
      "Epoch 11/50\n",
      " - 2s - loss: 0.0754 - val_loss: 0.0708\n",
      "Epoch 12/50\n",
      " - 2s - loss: 0.0745 - val_loss: 0.0697\n",
      "Epoch 13/50\n",
      " - 2s - loss: 0.0736 - val_loss: 0.0688\n",
      "Epoch 14/50\n",
      " - 3s - loss: 0.0728 - val_loss: 0.0681\n",
      "Epoch 15/50\n",
      " - 2s - loss: 0.0721 - val_loss: 0.0675\n",
      "Epoch 16/50\n",
      " - 2s - loss: 0.0715 - val_loss: 0.0669\n",
      "Epoch 17/50\n",
      " - 2s - loss: 0.0710 - val_loss: 0.0665\n",
      "Epoch 18/50\n",
      " - 2s - loss: 0.0705 - val_loss: 0.0661\n",
      "Epoch 19/50\n",
      " - 6s - loss: 0.0700 - val_loss: 0.0657\n",
      "Epoch 20/50\n",
      " - 2s - loss: 0.0696 - val_loss: 0.0654\n",
      "Epoch 21/50\n",
      " - 2s - loss: 0.0693 - val_loss: 0.0652\n",
      "Epoch 22/50\n",
      " - 2s - loss: 0.0689 - val_loss: 0.0651\n",
      "Epoch 23/50\n",
      " - 2s - loss: 0.0687 - val_loss: 0.0650\n",
      "Epoch 24/50\n",
      " - 2s - loss: 0.0685 - val_loss: 0.0649\n",
      "Epoch 25/50\n",
      " - 2s - loss: 0.0683 - val_loss: 0.0648\n",
      "Epoch 26/50\n",
      " - 5s - loss: 0.0681 - val_loss: 0.0648\n",
      "Epoch 27/50\n",
      " - 4s - loss: 0.0679 - val_loss: 0.0647\n",
      "Epoch 28/50\n",
      " - 2s - loss: 0.0677 - val_loss: 0.0647\n",
      "Epoch 29/50\n",
      " - 2s - loss: 0.0676 - val_loss: 0.0646\n",
      "Epoch 30/50\n",
      " - 2s - loss: 0.0674 - val_loss: 0.0645\n",
      "Epoch 31/50\n",
      " - 4s - loss: 0.0673 - val_loss: 0.0645\n",
      "Epoch 32/50\n",
      " - 2s - loss: 0.0672 - val_loss: 0.0644\n",
      "Epoch 33/50\n",
      " - 2s - loss: 0.0670 - val_loss: 0.0643\n",
      "Epoch 34/50\n",
      " - 3s - loss: 0.0669 - val_loss: 0.0642\n",
      "Epoch 35/50\n",
      " - 4s - loss: 0.0667 - val_loss: 0.0641\n",
      "Epoch 36/50\n",
      " - 2s - loss: 0.0666 - val_loss: 0.0640\n",
      "Epoch 37/50\n",
      " - 3s - loss: 0.0665 - val_loss: 0.0639\n",
      "Epoch 38/50\n",
      " - 4s - loss: 0.0663 - val_loss: 0.0638\n",
      "Epoch 39/50\n",
      " - 2s - loss: 0.0662 - val_loss: 0.0637\n",
      "Epoch 40/50\n",
      " - 2s - loss: 0.0660 - val_loss: 0.0636\n",
      "Epoch 41/50\n",
      " - 2s - loss: 0.0659 - val_loss: 0.0635\n",
      "Epoch 42/50\n",
      " - 2s - loss: 0.0657 - val_loss: 0.0634\n",
      "Epoch 43/50\n",
      " - 2s - loss: 0.0655 - val_loss: 0.0632\n",
      "Epoch 44/50\n",
      " - 2s - loss: 0.0654 - val_loss: 0.0631\n",
      "Epoch 45/50\n",
      " - 2s - loss: 0.0652 - val_loss: 0.0629\n",
      "Epoch 46/50\n",
      " - 2s - loss: 0.0650 - val_loss: 0.0628\n",
      "Epoch 47/50\n",
      " - 2s - loss: 0.0648 - val_loss: 0.0626\n",
      "Epoch 48/50\n",
      " - 2s - loss: 0.0646 - val_loss: 0.0624\n",
      "Epoch 49/50\n",
      " - 2s - loss: 0.0643 - val_loss: 0.0622\n",
      "Epoch 50/50\n",
      " - 2s - loss: 0.0641 - val_loss: 0.0620\n"
     ]
    },
    {
     "data": {
      "text/plain": [
       "<keras.callbacks.callbacks.History at 0x163043ad0>"
      ]
     },
     "execution_count": 299,
     "metadata": {},
     "output_type": "execute_result"
    }
   ],
   "source": [
    "# model\n",
    "model = Sequential()\n",
    "model.add(LSTM(50, input_shape=(x_train.shape[1], x_train.shape[2])))\n",
    "model.add(Dense(1))\n",
    "model.add(Dense(1))\n",
    "model.compile(loss='mse', optimizer='adam')\n",
    "# train\n",
    "model.fit(x_train, y_train, epochs=50, batch_size=16, validation_data=(x_test, y_test), verbose=2, shuffle=False)"
   ]
  },
  {
   "cell_type": "code",
   "execution_count": 300,
   "metadata": {},
   "outputs": [],
   "source": [
    "def gen_var(t):\n",
    "    var_list = []\n",
    "    for s in range(t,t+3):\n",
    "        for var in range(1,n_features+1):\n",
    "            var_list.append(\"var\"+str(var)+\"(t+\"+str(s)+\")\")\n",
    "    return var_list\n",
    "def generate_test(cdf):\n",
    "    v = []\n",
    "    for i in range(cdf.region.max() + 1):\n",
    "        df = cdf[cdf.region==i].copy()\n",
    "        df = df.set_index(\"date\")\n",
    "        df.drop([\"city\",\"region\"],axis = 1,inplace = True)\n",
    "        values = df.values\n",
    "        values = values.astype('float32')\n",
    "        scaled = scaler.fit_transform(values)\n",
    "        reframed = series_to_supervised(scaled, n_step, 30)\n",
    "        df = reframed[gen_var(1)][-4:].copy()\n",
    "        df.columns = gen_var(-3)\n",
    "        data = df\n",
    "        df = reframed[gen_var(14)].copy()\n",
    "        df.columns = gen_var(-3)\n",
    "        data = data.append(df)\n",
    "        df = reframed[gen_var(27)].copy()\n",
    "        df.columns = gen_var(-3)\n",
    "        data = data.append(df)\n",
    "        data = data.reset_index(drop=True)\n",
    "        val = data.values\n",
    "        val = val.reshape((data.shape[0], n_step, n_features))\n",
    "        yh = model.predict(val)\n",
    "        val0 = val.reshape((val.shape[0], n_step*n_features))\n",
    "        inv_yh = np.concatenate((yh, val0[:, -(n_features-1):]), axis=1)\n",
    "        inv_yh = scaler.inverse_transform(inv_yh)\n",
    "        inv_yh = inv_yh[:,0]\n",
    "        v.append(inv_yh)\n",
    "    return v"
   ]
  },
  {
   "cell_type": "code",
   "execution_count": 301,
   "metadata": {
    "scrolled": true
   },
   "outputs": [],
   "source": [
    "aa = generate_test(A)\n",
    "bb = generate_test(B)\n",
    "cc = generate_test(C)\n",
    "dd = generate_test(D)\n",
    "ee = generate_test(E)"
   ]
  },
  {
   "cell_type": "code",
   "execution_count": 302,
   "metadata": {
    "scrolled": true
   },
   "outputs": [],
   "source": [
    "def generate_res_infection_lst(data):\n",
    "    res_infection = []\n",
    "    res_region = []\n",
    "    for city in data:\n",
    "        region_id = 0\n",
    "        for region in city:\n",
    "            for i in region:\n",
    "                res_infection.append(int(round(i)))\n",
    "                res_region.append(region_id)\n",
    "            region_id = region_id + 1\n",
    "    return res_infection, res_region\n",
    "def check_minus(infection):\n",
    "    for i in range(len(infection)):\n",
    "        if infection[i] < 0:\n",
    "            if infection[i - 1] < 6:\n",
    "                infection[i] = 0\n",
    "            else:\n",
    "                infection[i] = int(infection[i - 1])\n",
    "    return infection"
   ]
  },
  {
   "cell_type": "code",
   "execution_count": 303,
   "metadata": {},
   "outputs": [],
   "source": [
    "infection, region = generate_res_infection_lst([aa,bb,cc,dd,ee])\n",
    "infection = check_minus(infection)\n",
    "submission = pd.read_csv('submission.csv', header=None, names=['city','region','date','infection'])\n",
    "submission['infection'] = infection\n",
    "submission['region'] = region\n",
    "submission.to_csv('submission_3.csv',index=False,header=None)"
   ]
  }
 ],
 "metadata": {
  "kernelspec": {
   "display_name": "Python 3",
   "language": "python",
   "name": "python3"
  },
  "language_info": {
   "codemirror_mode": {
    "name": "ipython",
    "version": 3
   },
   "file_extension": ".py",
   "mimetype": "text/x-python",
   "name": "python",
   "nbconvert_exporter": "python",
   "pygments_lexer": "ipython3",
   "version": "3.7.6"
  }
 },
 "nbformat": 4,
 "nbformat_minor": 2
}
